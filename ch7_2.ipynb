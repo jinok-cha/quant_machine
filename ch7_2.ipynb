{
  "cells": [
    {
      "cell_type": "code",
      "execution_count": 1,
      "metadata": {
        "colab": {
          "base_uri": "https://localhost:8080/"
        },
        "id": "V2WV1Eh7kLDK",
        "outputId": "3aad9f75-5017-47b3-9a71-1111a0bb3a00"
      },
      "outputs": [
        {
          "output_type": "stream",
          "name": "stdout",
          "text": [
            "Looking in indexes: https://pypi.org/simple, https://us-python.pkg.dev/colab-wheels/public/simple/\n",
            "Collecting finterstellar\n",
            "  Downloading finterstellar-0.1.19-py3-none-any.whl (12 kB)\n",
            "Requirement already satisfied: numpy>=1.19.3 in /usr/local/lib/python3.7/dist-packages (from finterstellar) (1.21.6)\n",
            "Requirement already satisfied: lxml>=4.2.6 in /usr/local/lib/python3.7/dist-packages (from finterstellar) (4.9.1)\n",
            "Requirement already satisfied: pandas>=1.1.4 in /usr/local/lib/python3.7/dist-packages (from finterstellar) (1.3.5)\n",
            "Requirement already satisfied: requests>=2.23.0 in /usr/local/lib/python3.7/dist-packages (from finterstellar) (2.23.0)\n",
            "Collecting pandas-datareader>=0.10.0\n",
            "  Downloading pandas_datareader-0.10.0-py3-none-any.whl (109 kB)\n",
            "\u001b[K     |████████████████████████████████| 109 kB 14.4 MB/s \n",
            "\u001b[?25hRequirement already satisfied: python-dateutil>=2.7.3 in /usr/local/lib/python3.7/dist-packages (from pandas>=1.1.4->finterstellar) (2.8.2)\n",
            "Requirement already satisfied: pytz>=2017.3 in /usr/local/lib/python3.7/dist-packages (from pandas>=1.1.4->finterstellar) (2022.2.1)\n",
            "Requirement already satisfied: six>=1.5 in /usr/local/lib/python3.7/dist-packages (from python-dateutil>=2.7.3->pandas>=1.1.4->finterstellar) (1.15.0)\n",
            "Requirement already satisfied: urllib3!=1.25.0,!=1.25.1,<1.26,>=1.21.1 in /usr/local/lib/python3.7/dist-packages (from requests>=2.23.0->finterstellar) (1.24.3)\n",
            "Requirement already satisfied: certifi>=2017.4.17 in /usr/local/lib/python3.7/dist-packages (from requests>=2.23.0->finterstellar) (2022.6.15)\n",
            "Requirement already satisfied: idna<3,>=2.5 in /usr/local/lib/python3.7/dist-packages (from requests>=2.23.0->finterstellar) (2.10)\n",
            "Requirement already satisfied: chardet<4,>=3.0.2 in /usr/local/lib/python3.7/dist-packages (from requests>=2.23.0->finterstellar) (3.0.4)\n",
            "Installing collected packages: pandas-datareader, finterstellar\n",
            "  Attempting uninstall: pandas-datareader\n",
            "    Found existing installation: pandas-datareader 0.9.0\n",
            "    Uninstalling pandas-datareader-0.9.0:\n",
            "      Successfully uninstalled pandas-datareader-0.9.0\n",
            "Successfully installed finterstellar-0.1.19 pandas-datareader-0.10.0\n"
          ]
        }
      ],
      "source": [
        "pip install finterstellar"
      ]
    },
    {
      "cell_type": "code",
      "execution_count": 2,
      "metadata": {
        "id": "F4vvUOkNkJHv"
      },
      "outputs": [],
      "source": [
        "import finterstellar as fs"
      ]
    },
    {
      "cell_type": "code",
      "execution_count": 7,
      "metadata": {
        "id": "a8lMNg63kJHx"
      },
      "outputs": [],
      "source": [
        "otp = '16621182221099710310'\n",
        "df = fs.fn_single(otp=otp, symbol='KO', window='T')"
      ]
    },
    {
      "cell_type": "code",
      "execution_count": 8,
      "metadata": {
        "colab": {
          "base_uri": "https://localhost:8080/"
        },
        "id": "A4vgRZhekJHy",
        "outputId": "37856c6e-11a0-4fbd-aa44-80d7afa3732e"
      },
      "outputs": [
        {
          "output_type": "execute_result",
          "data": {
            "text/plain": [
              "Index(['Revenue', 'COGS', 'Gross Profit', 'SG&A', 'Operating Income',\n",
              "       'Net Income', 'EPS', 'EBITDA', 'EBIT', 'Shares', 'Cash & Equivalents',\n",
              "       'Receivables', 'Inventory', 'Current Assets', 'Long Term Assets',\n",
              "       'Total Assets', 'Current Debt', 'Current Liabilities', 'Long Term Debt',\n",
              "       'Long Term Liabilities', 'Total Liabilities', 'Shareholders Equity',\n",
              "       'Depreciation', 'Operating Cash Flow', 'Capital Expenditure',\n",
              "       'Investing cash flow', 'Dividends', 'Financing cash flow', 'Price'],\n",
              "      dtype='object')"
            ]
          },
          "metadata": {},
          "execution_count": 8
        }
      ],
      "source": [
        "df.columns"
      ]
    },
    {
      "cell_type": "code",
      "execution_count": 9,
      "metadata": {
        "colab": {
          "base_uri": "https://localhost:8080/"
        },
        "id": "GQySqX_6kJHz",
        "outputId": "66abcd9f-ee8e-44a3-e617-2b37ac0ad46b"
      },
      "outputs": [
        {
          "output_type": "execute_result",
          "data": {
            "text/plain": [
              "2021-06-30    54.11\n",
              "2021-09-30    52.47\n",
              "2021-12-31    59.21\n",
              "2022-03-31    62.00\n",
              "2022-06-30    62.91\n",
              "Name: Price, dtype: float64"
            ]
          },
          "metadata": {},
          "execution_count": 9
        }
      ],
      "source": [
        "df['Price'].tail()"
      ]
    },
    {
      "cell_type": "code",
      "execution_count": 10,
      "metadata": {
        "id": "vrQFWedmkJH0"
      },
      "outputs": [],
      "source": [
        "df['Avg Assets'] = ( df['Total Assets'] + df['Total Assets'].shift(4) ) /2\n",
        "df['ROA'] = df['Net Income'] / df['Avg Assets']\n",
        "df['Current Ratio'] = df['Current Assets'] / df['Current Liabilities']\n",
        "df['Debt/Asset'] = df['Long Term Debt'] / df['Total Assets']\n",
        "df['Gross Margin'] = df['Gross Profit'] / df['Revenue']\n",
        "df['Asset Turnover'] = df['Revenue'] / df['Avg Assets']"
      ]
    },
    {
      "cell_type": "code",
      "execution_count": 11,
      "metadata": {
        "id": "XWWLtt-FkJH0"
      },
      "outputs": [],
      "source": [
        "df['F_ROA'] = 0\n",
        "df['F_ROA_dt'] = 0\n",
        "df['F_CFO'] = 0\n",
        "df['F_Accrual'] = 0\n",
        "df['F_Liquid'] = 0\n",
        "df['F_Lever'] = 0\n",
        "df['F_Shares'] = 0\n",
        "df['F_Margin'] = 0\n",
        "df['F_Turn'] = 0\n",
        "df['F_Score'] = 0"
      ]
    },
    {
      "cell_type": "code",
      "execution_count": 12,
      "metadata": {
        "id": "IMBOzrP9kJH1"
      },
      "outputs": [],
      "source": [
        "df.loc[df['ROA']>0, 'F_ROA'] = 1\n",
        "df.loc[df['ROA']>df['ROA'].shift(4), 'F_ROA_dt'] = 1\n",
        "df.loc[df['Operating Cash Flow']>0, 'F_CFO'] = 1\n",
        "df.loc[df['Operating Cash Flow']-df['Net Income']>0, 'F_Accrual'] = 1\n",
        "df.loc[df['Current Ratio']-df['Current Ratio'].shift(4)>0, 'F_Liquid'] = 1\n",
        "df.loc[df['Debt/Asset']-df['Debt/Asset'].shift(4)<0, 'F_Lever'] = 1\n",
        "df.loc[df['Shares']-df['Shares'].shift(4)<=0, 'F_Shares'] = 1\n",
        "df.loc[df['Gross Margin']-df['Gross Margin'].shift(4)>0, 'F_Margin'] = 1\n",
        "df.loc[df['Asset Turnover']-df['Asset Turnover'].shift(4)>0, 'F_Turn'] = 1\n",
        "df['F_Score'] = df['F_ROA']+df['F_ROA_dt']+df['F_CFO']+df['F_Accrual']+df['F_Liquid']+df['F_Lever']+df['F_Shares']+df['F_Margin']+df['F_Turn']"
      ]
    },
    {
      "cell_type": "code",
      "execution_count": 13,
      "metadata": {
        "colab": {
          "base_uri": "https://localhost:8080/"
        },
        "id": "NSo1X0HjkJH1",
        "outputId": "448c1e42-afc4-4e77-aaf6-405b28e9c63d"
      },
      "outputs": [
        {
          "output_type": "stream",
          "name": "stdout",
          "text": [
            "            F_Score  F_ROA  F_ROA_dt  F_CFO  F_Accrual  F_Liquid  F_Lever  \\\n",
            "2021-06-30        6      1         0      1          1         1        0   \n",
            "2021-09-30        7      1         1      1          1         1        0   \n",
            "2021-12-31        7      1         1      1          1         0        1   \n",
            "2022-03-31        7      1         1      1          1         0        1   \n",
            "2022-06-30        6      1         1      1          1         0        1   \n",
            "\n",
            "            F_Shares  F_Margin  F_Turn  \n",
            "2021-06-30         0         1       1  \n",
            "2021-09-30         0         1       1  \n",
            "2021-12-31         0         1       1  \n",
            "2022-03-31         0         1       1  \n",
            "2022-06-30         0         0       1  \n"
          ]
        }
      ],
      "source": [
        "print(df[['F_Score', 'F_ROA', 'F_ROA_dt', 'F_CFO', 'F_Accrual', 'F_Liquid', 'F_Lever', 'F_Shares', 'F_Margin', 'F_Turn']].tail())"
      ]
    },
    {
      "cell_type": "code",
      "execution_count": null,
      "metadata": {
        "id": "7D69F4LYkJH2"
      },
      "outputs": [],
      "source": []
    },
    {
      "cell_type": "code",
      "execution_count": 14,
      "metadata": {
        "colab": {
          "base_uri": "https://localhost:8080/"
        },
        "id": "iVWyZqlfkJH2",
        "outputId": "256abc2d-56b3-4e36-f8b9-19bc4ae2ee06"
      },
      "outputs": [
        {
          "output_type": "stream",
          "name": "stdout",
          "text": [
            "2010Q4...OK\n",
            "2011Q1...OK\n",
            "2011Q2...OK\n",
            "2011Q3...OK\n",
            "2011Q4...OK\n",
            "2012Q1...OK\n",
            "2012Q2...OK\n",
            "2012Q3...OK\n",
            "2012Q4...OK\n",
            "2013Q1...OK\n",
            "2013Q2...OK\n",
            "2013Q3...OK\n",
            "2013Q4...OK\n",
            "2014Q1...OK\n",
            "2014Q2...OK\n",
            "2014Q3...OK\n",
            "2014Q4...OK\n",
            "2015Q1...OK\n",
            "2015Q2...OK\n",
            "2015Q3...OK\n",
            "2015Q4...OK\n",
            "2016Q1...OK\n",
            "2016Q2...OK\n",
            "2016Q3...OK\n",
            "2016Q4...OK\n",
            "2017Q1...OK\n",
            "2017Q2...OK\n",
            "2017Q3...OK\n",
            "2017Q4...OK\n",
            "2018Q1...OK\n",
            "2018Q2...OK\n",
            "2018Q3...OK\n",
            "2018Q4...OK\n",
            "2019Q1...OK\n",
            "2019Q2...OK\n",
            "2019Q3...OK\n",
            "2019Q4...OK\n",
            "2020Q1...OK\n",
            "2020Q2...OK\n",
            "2020Q3...OK\n",
            "2020Q4...OK\n"
          ]
        }
      ],
      "source": [
        "# Piotroski 준비작업\n",
        "terms = fs.set_terms(trade_start='2011Q1', trade_end='2021Q1')\n",
        "data = {}\n",
        "for t in terms:\n",
        "    data[t] = fs.fn_consolidated(otp=otp, term=t, vol=0)\n",
        "for t in terms:\n",
        "    prev_t = fs.quarters_before(terms, t, 4)\n",
        "    data[t]['Market Cap'] = data[t]['Price_M3'] * data[t]['Shares']    \n",
        "    data[t]['PBR'] = data[t]['Price_M3'] / ( data[t]['Shareholders Equity'] / data[t]['Shares'] )\n",
        "    data[t]['Avg Assets'] =  ( data[t]['Total Assets'] + data[prev_t]['Total Assets'] ) / 2\n",
        "    data[t]['ROA'] = data[t]['Net Income'] / data[t]['Avg Assets']\n",
        "    data[t]['Current Ratio'] = data[t]['Current Assets'] / data[t]['Current Liabilities']\n",
        "    data[t]['Debt/Asset'] = data[t]['Long Term Debt'] / data[t]['Total Assets']\n",
        "    data[t]['Gross Margin'] = data[t]['Gross Profit'] / data[t]['Revenue']\n",
        "    data[t]['Asset Turnover'] = data[t]['Revenue'] / data[t]['Avg Assets']\n",
        "    \n",
        "    data[t]['F_ROA'] = 0\n",
        "    data[t]['F_ROA_dt'] = 0\n",
        "    data[t]['F_CFO'] = 0\n",
        "    data[t]['F_Accrual'] = 0\n",
        "    data[t]['F_Liquid'] = 0\n",
        "    data[t]['F_Lever'] = 0\n",
        "    data[t]['F_Shares'] = 0\n",
        "    data[t]['F_Margin'] = 0\n",
        "    data[t]['F_Turn'] = 0\n",
        "    data[t]['F_Score'] = 0\n",
        "    \n",
        "    data[t].loc[data[t]['ROA']>0, 'F_ROA'] = 1\n",
        "    data[t].loc[data[t]['ROA']-data[prev_t]['ROA']>0, 'F_ROA_dt'] = 1\n",
        "    data[t].loc[data[t]['Operating Cash Flow']>0, 'F_CFO'] = 1\n",
        "    data[t].loc[data[t]['Operating Cash Flow']-data[t]['Net Income']>0, 'F_Accrual'] = 1\n",
        "    data[t].loc[data[t]['Current Ratio']-data[prev_t]['Current Ratio']>0, 'F_Liquid'] = 1\n",
        "    data[t].loc[data[t]['Debt/Asset']-data[prev_t]['Debt/Asset']<0, 'F_Lever'] = 1\n",
        "    data[t].loc[data[t]['Shares']-data[prev_t]['Shares']<=0, 'F_Shares'] = 1\n",
        "    data[t].loc[data[t]['Gross Margin']-data[prev_t]['Gross Margin']>0, 'F_Margin'] = 1\n",
        "    data[t].loc[data[t]['Asset Turnover']-data[prev_t]['Asset Turnover']>0, 'F_Turn'] = 1\n",
        "    data[t]['F_Score'] = data[t]['F_ROA']+data[t]['F_ROA_dt']+data[t]['F_CFO']+data[t]['F_Accrual']+data[t]['F_Liquid']+data[t]['F_Lever']+data[t]['F_Shares']+data[t]['F_Margin']+data[t]['F_Turn']"
      ]
    },
    {
      "cell_type": "code",
      "execution_count": 15,
      "metadata": {
        "colab": {
          "base_uri": "https://localhost:8080/"
        },
        "id": "0dLpZpjzkJH2",
        "outputId": "e34b8cc8-6caa-4e54-88b4-17d90421241c"
      },
      "outputs": [
        {
          "output_type": "stream",
          "name": "stdout",
          "text": [
            "CAGR: 14.56%\n",
            "Accumulated return: 289.91%\n",
            "Investment period: 10.0yrs\n",
            "Sharpe ratio: 1.63\n",
            "MDD: -18.30%\n"
          ]
        }
      ],
      "source": [
        "# High F-Score\n",
        "s1 = {}\n",
        "s2 = {}\n",
        "s3 = {}\n",
        "s = {}\n",
        "signal = {}\n",
        "for t in terms:\n",
        "    s1[t] = fs.fn_filter(data[t], by='Market Cap', floor=0, n=1000, asc=True)\n",
        "    s2[t] = fs.fn_filter(data[t], by='PBR', floor=.1, cap=1, asc=True)\n",
        "    s3[t] = fs.fn_filter(data[t], by='F_Score', floor=7, cap=9, asc=False)\n",
        "    s[t] = fs.combine_signal(s1[t], s2[t], s3[t]).sample(frac=1)[:30]\n",
        "    signal[t] = list(s[t].index)\n",
        "df = fs.backtest(signal=signal, data=data, m=3, cost=.001)"
      ]
    },
    {
      "cell_type": "code",
      "execution_count": 16,
      "metadata": {
        "colab": {
          "base_uri": "https://localhost:8080/"
        },
        "id": "jmB_5MXWkJH3",
        "outputId": "827b228d-433f-4057-ce45-6c40446aead9"
      },
      "outputs": [
        {
          "output_type": "stream",
          "name": "stdout",
          "text": [
            "CAGR: 12.83%\n",
            "Accumulated return: 234.80%\n",
            "Investment period: 10.0yrs\n",
            "Sharpe ratio: 0.92\n",
            "MDD: -39.15%\n"
          ]
        }
      ],
      "source": [
        "# Mid F-Score\n",
        "s1 = {}\n",
        "s2 = {}\n",
        "s3 = {}\n",
        "s = {}\n",
        "signal = {}\n",
        "for t in terms:\n",
        "    s1[t] = fs.fn_filter(data[t], by='Market Cap', floor=0, n=1000, asc=True)\n",
        "    s2[t] = fs.fn_filter(data[t], by='PBR', floor=.1, cap=1, asc=True)\n",
        "    s3[t] = fs.fn_filter(data[t], by='F_Score', floor=4, cap=6, asc=False)\n",
        "    s[t] = fs.combine_signal(s1[t], s2[t], s3[t]).sample(frac=1)[:30]\n",
        "    signal[t] = list(s[t].index)\n",
        "df = fs.backtest(signal=signal, data=data, m=3, cost=.001)"
      ]
    },
    {
      "cell_type": "code",
      "execution_count": 17,
      "metadata": {
        "colab": {
          "base_uri": "https://localhost:8080/"
        },
        "id": "x5G7Lb2hkJH3",
        "outputId": "ae40e779-955a-4ff3-9639-bc19c6580ec0"
      },
      "outputs": [
        {
          "output_type": "stream",
          "name": "stdout",
          "text": [
            "CAGR: 16.85%\n",
            "Accumulated return: 375.28%\n",
            "Investment period: 10.0yrs\n",
            "Sharpe ratio: 1.15\n",
            "MDD: -36.70%\n"
          ]
        }
      ],
      "source": [
        "# Low F-Score\n",
        "s1 = {}\n",
        "s2 = {}\n",
        "s3 = {}\n",
        "s = {}\n",
        "signal = {}\n",
        "for t in terms:\n",
        "    s1[t] = fs.fn_filter(data[t], by='Market Cap', floor=0, n=1000, asc=True)\n",
        "    s2[t] = fs.fn_filter(data[t], by='PBR', floor=.1, cap=1, asc=True)\n",
        "    s3[t] = fs.fn_filter(data[t], by='F_Score', floor=0, cap=3, asc=False)\n",
        "    s[t] = fs.combine_signal(s1[t], s2[t], s3[t]).sample(frac=1)[:30]\n",
        "    signal[t] = list(s[t].index)\n",
        "df = fs.backtest(signal=signal, data=data, m=3, cost=.001)"
      ]
    },
    {
      "cell_type": "code",
      "execution_count": 18,
      "metadata": {
        "colab": {
          "base_uri": "https://localhost:8080/",
          "height": 359
        },
        "id": "pzv031C5kJH3",
        "outputId": "072ff57d-6a20-4c09-ff83-a1ceeca925be"
      },
      "outputs": [
        {
          "output_type": "display_data",
          "data": {
            "text/plain": [
              "<Figure size 720x360 with 2 Axes>"
            ],
            "image/png": "[encoded data removed]"
          },
          "metadata": {
            "needs_background": "light"
          }
        }
      ],
      "source": [
        "fs.draw_return(df)"
      ]
    },
    {
      "cell_type": "code",
      "execution_count": null,
      "metadata": {
        "id": "WxumV1wJkJH4"
      },
      "outputs": [],
      "source": []
    },
    {
      "cell_type": "code",
      "execution_count": 19,
      "metadata": {
        "colab": {
          "base_uri": "https://localhost:8080/"
        },
        "id": "IuFy8qFEkJH4",
        "outputId": "07748a90-9ca4-4dc6-bc46-8270741b9b33"
      },
      "outputs": [
        {
          "output_type": "stream",
          "name": "stdout",
          "text": [
            "=== 1~3 ===\n",
            "CAGR: 17.66%\n",
            "Accumulated return: 388.96%\n",
            "Investment period: 9.8yrs\n",
            "Sharpe ratio: 1.14\n",
            "MDD: -27.76%\n",
            "1000 571 1448 30\n",
            "=== 4~6 ===\n",
            "CAGR: 24.98%\n",
            "Accumulated return: 781.19%\n",
            "Investment period: 9.8yrs\n",
            "Sharpe ratio: 2.74\n",
            "MDD: -38.43%\n",
            "1000 571 2258 30\n",
            "=== 7~9 ===\n",
            "CAGR: 15.02%\n",
            "Accumulated return: 291.80%\n",
            "Investment period: 9.8yrs\n",
            "Sharpe ratio: 1.67\n",
            "MDD: -18.30%\n",
            "1000 571 452 20\n"
          ]
        }
      ],
      "source": [
        "for p in range(1,8,3):\n",
        "    print('=== {}~{} ==='.format(p, p+2))\n",
        "    s1 = {}\n",
        "    s2 = {}\n",
        "    s = {}\n",
        "    signal = {}\n",
        "    prev_t = terms[0]\n",
        "    for t in terms[1:]:    \n",
        "        s1[t] = fs.fn_filter(data[t], by='Market Cap', floor=0, n=1000, asc=True)\n",
        "        s2[t] = fs.fn_filter(data[t], by='PBR', floor=.1, cap=1, asc=True)\n",
        "        s3[t] = fs.fn_filter(data[t], by='F_Score', floor=p, cap=p+2, asc=False)\n",
        "        s[t] = fs.combine_signal(s1[t], s2[t], s3[t]).sample(frac=1)[:30]\n",
        "        signal[t] = list(s[t].index)\n",
        "    df = fs.backtest(signal=signal, data=data, m=3, cost=.001)\n",
        "    print(len(s1[t]), len(s2[t]), len(s3[t]), len(s[t]))"
      ]
    },
    {
      "cell_type": "code",
      "execution_count": null,
      "metadata": {
        "id": "LpnoTFRfkJH4"
      },
      "outputs": [],
      "source": []
    }
  ],
  "metadata": {
    "colab": {
      "collapsed_sections": [],
      "name": "ch7-2.ipynb",
      "provenance": []
    },
    "kernelspec": {
      "display_name": "Python 3",
      "language": "python",
      "name": "python3"
    },
    "language_info": {
      "codemirror_mode": {
        "name": "ipython",
        "version": 3
      },
      "file_extension": ".py",
      "mimetype": "text/x-python",
      "name": "python",
      "nbconvert_exporter": "python",
      "pygments_lexer": "ipython3",
      "version": "3.8.6"
    }
  },
  "nbformat": 4,
  "nbformat_minor": 0
}